{
 "cells": [
  {
   "cell_type": "markdown",
   "metadata": {
    "slideshow": {
     "slide_type": "slide"
    }
   },
   "source": [
    "# Wine Prices and Ratings by Location and Year Bottled\n",
    "### UMN Bootcamp Project 1 - Group 6\n",
    "### Tina Kuo, Laura Hertzog, Ciera Morris, Nick Hoyer"
   ]
  },
  {
   "cell_type": "markdown",
   "metadata": {
    "slideshow": {
     "slide_type": "slide"
    }
   },
   "source": [
    "# Intro Slide - Ciera\n"
   ]
  },
  {
   "cell_type": "markdown",
   "metadata": {
    "slideshow": {
     "slide_type": "slide"
    }
   },
   "source": [
    "# Beginning of our data cleansing and formatting"
   ]
  },
  {
   "cell_type": "code",
   "execution_count": 1,
   "metadata": {
    "slideshow": {
     "slide_type": "subslide"
    }
   },
   "outputs": [],
   "source": [
    "# Import necessary tools & config\n",
    "import pandas as pd\n",
    "import re\n",
    "import gmaps\n",
    "from config import g_key\n",
    "import numpy as py\n",
    "import matplotlib.pyplot as plt\n",
    "import scipy.stats as st\n",
    "from scipy.stats import linregress\n",
    "import requests\n",
    "import json\n",
    "from IPython.display import Image\n",
    "\n",
    "gmaps.configure(api_key=g_key)"
   ]
  },
  {
   "cell_type": "code",
   "execution_count": 2,
   "metadata": {
    "slideshow": {
     "slide_type": "subslide"
    }
   },
   "outputs": [
    {
     "data": {
      "text/html": [
       "<div>\n",
       "<style scoped>\n",
       "    .dataframe tbody tr th:only-of-type {\n",
       "        vertical-align: middle;\n",
       "    }\n",
       "\n",
       "    .dataframe tbody tr th {\n",
       "        vertical-align: top;\n",
       "    }\n",
       "\n",
       "    .dataframe thead th {\n",
       "        text-align: right;\n",
       "    }\n",
       "</style>\n",
       "<table border=\"1\" class=\"dataframe\">\n",
       "  <thead>\n",
       "    <tr style=\"text-align: right;\">\n",
       "      <th></th>\n",
       "      <th>Unnamed: 0</th>\n",
       "      <th>country</th>\n",
       "      <th>description</th>\n",
       "      <th>designation</th>\n",
       "      <th>points</th>\n",
       "      <th>price (USD)</th>\n",
       "      <th>province</th>\n",
       "      <th>region_1</th>\n",
       "      <th>region_2</th>\n",
       "      <th>taster_name</th>\n",
       "      <th>taster_twitter_handle</th>\n",
       "      <th>title</th>\n",
       "      <th>variety</th>\n",
       "      <th>winery</th>\n",
       "    </tr>\n",
       "  </thead>\n",
       "  <tbody>\n",
       "    <tr>\n",
       "      <th>0</th>\n",
       "      <td>345</td>\n",
       "      <td>Australia</td>\n",
       "      <td>This wine contains some material over 100 year...</td>\n",
       "      <td>Rare</td>\n",
       "      <td>100</td>\n",
       "      <td>350.0</td>\n",
       "      <td>Victoria</td>\n",
       "      <td>Rutherglen</td>\n",
       "      <td>NaN</td>\n",
       "      <td>Joe Czerwinski</td>\n",
       "      <td>@JoeCz</td>\n",
       "      <td>Chambers Rosewood Vineyards NV Rare Muscat (Ru...</td>\n",
       "      <td>Muscat</td>\n",
       "      <td>Chambers Rosewood Vineyards</td>\n",
       "    </tr>\n",
       "    <tr>\n",
       "      <th>1</th>\n",
       "      <td>7335</td>\n",
       "      <td>Italy</td>\n",
       "      <td>Thick as molasses and dark as caramelized brow...</td>\n",
       "      <td>Occhio di Pernice</td>\n",
       "      <td>100</td>\n",
       "      <td>210.0</td>\n",
       "      <td>Tuscany</td>\n",
       "      <td>Vin Santo di Montepulciano</td>\n",
       "      <td>NaN</td>\n",
       "      <td>NaN</td>\n",
       "      <td>NaN</td>\n",
       "      <td>Avignonesi 1995 Occhio di Pernice  (Vin Santo ...</td>\n",
       "      <td>Prugnolo Gentile</td>\n",
       "      <td>Avignonesi</td>\n",
       "    </tr>\n",
       "    <tr>\n",
       "      <th>2</th>\n",
       "      <td>36528</td>\n",
       "      <td>France</td>\n",
       "      <td>This is a fabulous wine from the greatest Cham...</td>\n",
       "      <td>Brut</td>\n",
       "      <td>100</td>\n",
       "      <td>259.0</td>\n",
       "      <td>Champagne</td>\n",
       "      <td>Champagne</td>\n",
       "      <td>NaN</td>\n",
       "      <td>Roger Voss</td>\n",
       "      <td>@vossroger</td>\n",
       "      <td>Krug 2002 Brut  (Champagne)</td>\n",
       "      <td>Champagne Blend</td>\n",
       "      <td>Krug</td>\n",
       "    </tr>\n",
       "    <tr>\n",
       "      <th>3</th>\n",
       "      <td>39286</td>\n",
       "      <td>Italy</td>\n",
       "      <td>A perfect wine from a classic vintage, the 200...</td>\n",
       "      <td>Masseto</td>\n",
       "      <td>100</td>\n",
       "      <td>460.0</td>\n",
       "      <td>Tuscany</td>\n",
       "      <td>Toscana</td>\n",
       "      <td>NaN</td>\n",
       "      <td>NaN</td>\n",
       "      <td>NaN</td>\n",
       "      <td>Tenuta dell'Ornellaia 2007 Masseto Merlot (Tos...</td>\n",
       "      <td>Merlot</td>\n",
       "      <td>Tenuta dell'Ornellaia</td>\n",
       "    </tr>\n",
       "    <tr>\n",
       "      <th>4</th>\n",
       "      <td>42197</td>\n",
       "      <td>Portugal</td>\n",
       "      <td>This is the latest release of what has long be...</td>\n",
       "      <td>Barca-Velha</td>\n",
       "      <td>100</td>\n",
       "      <td>450.0</td>\n",
       "      <td>Douro</td>\n",
       "      <td>NaN</td>\n",
       "      <td>NaN</td>\n",
       "      <td>Roger Voss</td>\n",
       "      <td>@vossroger</td>\n",
       "      <td>Casa Ferreirinha 2008 Barca-Velha Red (Douro)</td>\n",
       "      <td>Portuguese Red</td>\n",
       "      <td>Casa Ferreirinha</td>\n",
       "    </tr>\n",
       "  </tbody>\n",
       "</table>\n",
       "</div>"
      ],
      "text/plain": [
       "   Unnamed: 0    country                                        description  \\\n",
       "0         345  Australia  This wine contains some material over 100 year...   \n",
       "1        7335      Italy  Thick as molasses and dark as caramelized brow...   \n",
       "2       36528     France  This is a fabulous wine from the greatest Cham...   \n",
       "3       39286      Italy  A perfect wine from a classic vintage, the 200...   \n",
       "4       42197   Portugal  This is the latest release of what has long be...   \n",
       "\n",
       "         designation  points  price (USD)   province  \\\n",
       "0               Rare     100        350.0   Victoria   \n",
       "1  Occhio di Pernice     100        210.0    Tuscany   \n",
       "2               Brut     100        259.0  Champagne   \n",
       "3            Masseto     100        460.0    Tuscany   \n",
       "4        Barca-Velha     100        450.0      Douro   \n",
       "\n",
       "                     region_1 region_2     taster_name taster_twitter_handle  \\\n",
       "0                  Rutherglen      NaN  Joe Czerwinski                @JoeCz   \n",
       "1  Vin Santo di Montepulciano      NaN             NaN                   NaN   \n",
       "2                   Champagne      NaN      Roger Voss            @vossroger   \n",
       "3                     Toscana      NaN             NaN                   NaN   \n",
       "4                         NaN      NaN      Roger Voss            @vossroger   \n",
       "\n",
       "                                               title           variety  \\\n",
       "0  Chambers Rosewood Vineyards NV Rare Muscat (Ru...            Muscat   \n",
       "1  Avignonesi 1995 Occhio di Pernice  (Vin Santo ...  Prugnolo Gentile   \n",
       "2                        Krug 2002 Brut  (Champagne)   Champagne Blend   \n",
       "3  Tenuta dell'Ornellaia 2007 Masseto Merlot (Tos...            Merlot   \n",
       "4      Casa Ferreirinha 2008 Barca-Velha Red (Douro)    Portuguese Red   \n",
       "\n",
       "                        winery  \n",
       "0  Chambers Rosewood Vineyards  \n",
       "1                   Avignonesi  \n",
       "2                         Krug  \n",
       "3        Tenuta dell'Ornellaia  \n",
       "4             Casa Ferreirinha  "
      ]
     },
     "execution_count": 2,
     "metadata": {},
     "output_type": "execute_result"
    }
   ],
   "source": [
    "# Load our data, sourced from Kaggle, into a DataFrame\n",
    "wine_data_file = \"Resources/wine_data.csv\"\n",
    "wine_data = pd.read_csv(wine_data_file, encoding=\"utf-8\")\n",
    "\n",
    "wine_data.head()"
   ]
  },
  {
   "cell_type": "markdown",
   "metadata": {
    "slideshow": {
     "slide_type": "slide"
    }
   },
   "source": [
    "# Cleaning the data and dropping null/unnecessary values"
   ]
  },
  {
   "cell_type": "code",
   "execution_count": 3,
   "metadata": {
    "slideshow": {
     "slide_type": "subslide"
    }
   },
   "outputs": [
    {
     "data": {
      "text/html": [
       "<div>\n",
       "<style scoped>\n",
       "    .dataframe tbody tr th:only-of-type {\n",
       "        vertical-align: middle;\n",
       "    }\n",
       "\n",
       "    .dataframe tbody tr th {\n",
       "        vertical-align: top;\n",
       "    }\n",
       "\n",
       "    .dataframe thead th {\n",
       "        text-align: right;\n",
       "    }\n",
       "</style>\n",
       "<table border=\"1\" class=\"dataframe\">\n",
       "  <thead>\n",
       "    <tr style=\"text-align: right;\">\n",
       "      <th></th>\n",
       "      <th>country</th>\n",
       "      <th>description</th>\n",
       "      <th>designation</th>\n",
       "      <th>points</th>\n",
       "      <th>price (USD)</th>\n",
       "      <th>province</th>\n",
       "      <th>region_1</th>\n",
       "      <th>title</th>\n",
       "      <th>variety</th>\n",
       "      <th>winery</th>\n",
       "      <th>Year</th>\n",
       "    </tr>\n",
       "  </thead>\n",
       "  <tbody>\n",
       "    <tr>\n",
       "      <th>1</th>\n",
       "      <td>Italy</td>\n",
       "      <td>Thick as molasses and dark as caramelized brow...</td>\n",
       "      <td>Occhio di Pernice</td>\n",
       "      <td>100</td>\n",
       "      <td>210.0</td>\n",
       "      <td>Tuscany</td>\n",
       "      <td>Vin Santo di Montepulciano</td>\n",
       "      <td>Avignonesi 1995 Occhio di Pernice  (Vin Santo ...</td>\n",
       "      <td>Prugnolo Gentile</td>\n",
       "      <td>Avignonesi</td>\n",
       "      <td>1995</td>\n",
       "    </tr>\n",
       "    <tr>\n",
       "      <th>2</th>\n",
       "      <td>France</td>\n",
       "      <td>This is a fabulous wine from the greatest Cham...</td>\n",
       "      <td>Brut</td>\n",
       "      <td>100</td>\n",
       "      <td>259.0</td>\n",
       "      <td>Champagne</td>\n",
       "      <td>Champagne</td>\n",
       "      <td>Krug 2002 Brut  (Champagne)</td>\n",
       "      <td>Champagne Blend</td>\n",
       "      <td>Krug</td>\n",
       "      <td>2002</td>\n",
       "    </tr>\n",
       "    <tr>\n",
       "      <th>3</th>\n",
       "      <td>Italy</td>\n",
       "      <td>A perfect wine from a classic vintage, the 200...</td>\n",
       "      <td>Masseto</td>\n",
       "      <td>100</td>\n",
       "      <td>460.0</td>\n",
       "      <td>Tuscany</td>\n",
       "      <td>Toscana</td>\n",
       "      <td>Tenuta dell'Ornellaia 2007 Masseto Merlot (Tos...</td>\n",
       "      <td>Merlot</td>\n",
       "      <td>Tenuta dell'Ornellaia</td>\n",
       "      <td>2007</td>\n",
       "    </tr>\n",
       "    <tr>\n",
       "      <th>4</th>\n",
       "      <td>Portugal</td>\n",
       "      <td>This is the latest release of what has long be...</td>\n",
       "      <td>Barca-Velha</td>\n",
       "      <td>100</td>\n",
       "      <td>450.0</td>\n",
       "      <td>Douro</td>\n",
       "      <td>NaN</td>\n",
       "      <td>Casa Ferreirinha 2008 Barca-Velha Red (Douro)</td>\n",
       "      <td>Portuguese Red</td>\n",
       "      <td>Casa Ferreirinha</td>\n",
       "      <td>2008</td>\n",
       "    </tr>\n",
       "    <tr>\n",
       "      <th>5</th>\n",
       "      <td>Italy</td>\n",
       "      <td>This gorgeous, fragrant wine opens with classi...</td>\n",
       "      <td>Riserva</td>\n",
       "      <td>100</td>\n",
       "      <td>550.0</td>\n",
       "      <td>Tuscany</td>\n",
       "      <td>Brunello di Montalcino</td>\n",
       "      <td>Biondi Santi 2010 Riserva  (Brunello di Montal...</td>\n",
       "      <td>Sangiovese</td>\n",
       "      <td>Biondi Santi</td>\n",
       "      <td>2010</td>\n",
       "    </tr>\n",
       "  </tbody>\n",
       "</table>\n",
       "</div>"
      ],
      "text/plain": [
       "    country                                        description  \\\n",
       "1     Italy  Thick as molasses and dark as caramelized brow...   \n",
       "2    France  This is a fabulous wine from the greatest Cham...   \n",
       "3     Italy  A perfect wine from a classic vintage, the 200...   \n",
       "4  Portugal  This is the latest release of what has long be...   \n",
       "5     Italy  This gorgeous, fragrant wine opens with classi...   \n",
       "\n",
       "         designation  points  price (USD)   province  \\\n",
       "1  Occhio di Pernice     100        210.0    Tuscany   \n",
       "2               Brut     100        259.0  Champagne   \n",
       "3            Masseto     100        460.0    Tuscany   \n",
       "4        Barca-Velha     100        450.0      Douro   \n",
       "5            Riserva     100        550.0    Tuscany   \n",
       "\n",
       "                     region_1  \\\n",
       "1  Vin Santo di Montepulciano   \n",
       "2                   Champagne   \n",
       "3                     Toscana   \n",
       "4                         NaN   \n",
       "5      Brunello di Montalcino   \n",
       "\n",
       "                                               title           variety  \\\n",
       "1  Avignonesi 1995 Occhio di Pernice  (Vin Santo ...  Prugnolo Gentile   \n",
       "2                        Krug 2002 Brut  (Champagne)   Champagne Blend   \n",
       "3  Tenuta dell'Ornellaia 2007 Masseto Merlot (Tos...            Merlot   \n",
       "4      Casa Ferreirinha 2008 Barca-Velha Red (Douro)    Portuguese Red   \n",
       "5  Biondi Santi 2010 Riserva  (Brunello di Montal...        Sangiovese   \n",
       "\n",
       "                  winery  Year  \n",
       "1             Avignonesi  1995  \n",
       "2                   Krug  2002  \n",
       "3  Tenuta dell'Ornellaia  2007  \n",
       "4       Casa Ferreirinha  2008  \n",
       "5           Biondi Santi  2010  "
      ]
     },
     "execution_count": 3,
     "metadata": {},
     "output_type": "execute_result"
    }
   ],
   "source": [
    "# Drop region 2, taster name, taster twitter handle, and unnamed column and ensure dataframe is clean/usable\n",
    "clean_wine_data = wine_data.drop([\"region_2\", \"taster_name\", \"taster_twitter_handle\", \"Unnamed: 0\"], axis = 1)\n",
    "\n",
    "# Extract the year from the title column and place it into a new column\n",
    "# This is using the string extract function\n",
    "clean_wine_data[\"Year\"] = clean_wine_data[\"title\"].str.extract(\"(\\d{4})\")\n",
    "\n",
    "# Drop any rows that do not have a price, country, rating, or year\n",
    "cleaned_wine_data = clean_wine_data.dropna(subset = [\"price (USD)\", \"country\", \"points\", \"Year\"])\n",
    "cleaned_wine_data.head()"
   ]
  },
  {
   "cell_type": "code",
   "execution_count": 4,
   "metadata": {
    "slideshow": {
     "slide_type": "subslide"
    }
   },
   "outputs": [
    {
     "data": {
      "text/html": [
       "<div>\n",
       "<style scoped>\n",
       "    .dataframe tbody tr th:only-of-type {\n",
       "        vertical-align: middle;\n",
       "    }\n",
       "\n",
       "    .dataframe tbody tr th {\n",
       "        vertical-align: top;\n",
       "    }\n",
       "\n",
       "    .dataframe thead th {\n",
       "        text-align: right;\n",
       "    }\n",
       "</style>\n",
       "<table border=\"1\" class=\"dataframe\">\n",
       "  <thead>\n",
       "    <tr style=\"text-align: right;\">\n",
       "      <th></th>\n",
       "      <th>country</th>\n",
       "      <th>description</th>\n",
       "      <th>designation</th>\n",
       "      <th>points</th>\n",
       "      <th>price (USD)</th>\n",
       "      <th>province</th>\n",
       "      <th>region_1</th>\n",
       "      <th>title</th>\n",
       "      <th>variety</th>\n",
       "      <th>winery</th>\n",
       "      <th>Year</th>\n",
       "    </tr>\n",
       "  </thead>\n",
       "  <tbody>\n",
       "    <tr>\n",
       "      <th>1</th>\n",
       "      <td>Italy</td>\n",
       "      <td>Thick as molasses and dark as caramelized brow...</td>\n",
       "      <td>Occhio di Pernice</td>\n",
       "      <td>100</td>\n",
       "      <td>210.0</td>\n",
       "      <td>Tuscany</td>\n",
       "      <td>Vin Santo di Montepulciano</td>\n",
       "      <td>Avignonesi 1995 Occhio di Pernice  (Vin Santo ...</td>\n",
       "      <td>Prugnolo Gentile</td>\n",
       "      <td>Avignonesi</td>\n",
       "      <td>1995</td>\n",
       "    </tr>\n",
       "    <tr>\n",
       "      <th>2</th>\n",
       "      <td>France</td>\n",
       "      <td>This is a fabulous wine from the greatest Cham...</td>\n",
       "      <td>Brut</td>\n",
       "      <td>100</td>\n",
       "      <td>259.0</td>\n",
       "      <td>Champagne</td>\n",
       "      <td>Champagne</td>\n",
       "      <td>Krug 2002 Brut  (Champagne)</td>\n",
       "      <td>Champagne Blend</td>\n",
       "      <td>Krug</td>\n",
       "      <td>2002</td>\n",
       "    </tr>\n",
       "    <tr>\n",
       "      <th>3</th>\n",
       "      <td>Italy</td>\n",
       "      <td>A perfect wine from a classic vintage, the 200...</td>\n",
       "      <td>Masseto</td>\n",
       "      <td>100</td>\n",
       "      <td>460.0</td>\n",
       "      <td>Tuscany</td>\n",
       "      <td>Toscana</td>\n",
       "      <td>Tenuta dell'Ornellaia 2007 Masseto Merlot (Tos...</td>\n",
       "      <td>Merlot</td>\n",
       "      <td>Tenuta dell'Ornellaia</td>\n",
       "      <td>2007</td>\n",
       "    </tr>\n",
       "    <tr>\n",
       "      <th>4</th>\n",
       "      <td>Portugal</td>\n",
       "      <td>This is the latest release of what has long be...</td>\n",
       "      <td>Barca-Velha</td>\n",
       "      <td>100</td>\n",
       "      <td>450.0</td>\n",
       "      <td>Douro</td>\n",
       "      <td>NaN</td>\n",
       "      <td>Casa Ferreirinha 2008 Barca-Velha Red (Douro)</td>\n",
       "      <td>Portuguese Red</td>\n",
       "      <td>Casa Ferreirinha</td>\n",
       "      <td>2008</td>\n",
       "    </tr>\n",
       "    <tr>\n",
       "      <th>5</th>\n",
       "      <td>Italy</td>\n",
       "      <td>This gorgeous, fragrant wine opens with classi...</td>\n",
       "      <td>Riserva</td>\n",
       "      <td>100</td>\n",
       "      <td>550.0</td>\n",
       "      <td>Tuscany</td>\n",
       "      <td>Brunello di Montalcino</td>\n",
       "      <td>Biondi Santi 2010 Riserva  (Brunello di Montal...</td>\n",
       "      <td>Sangiovese</td>\n",
       "      <td>Biondi Santi</td>\n",
       "      <td>2010</td>\n",
       "    </tr>\n",
       "  </tbody>\n",
       "</table>\n",
       "</div>"
      ],
      "text/plain": [
       "    country                                        description  \\\n",
       "1     Italy  Thick as molasses and dark as caramelized brow...   \n",
       "2    France  This is a fabulous wine from the greatest Cham...   \n",
       "3     Italy  A perfect wine from a classic vintage, the 200...   \n",
       "4  Portugal  This is the latest release of what has long be...   \n",
       "5     Italy  This gorgeous, fragrant wine opens with classi...   \n",
       "\n",
       "         designation  points  price (USD)   province  \\\n",
       "1  Occhio di Pernice     100        210.0    Tuscany   \n",
       "2               Brut     100        259.0  Champagne   \n",
       "3            Masseto     100        460.0    Tuscany   \n",
       "4        Barca-Velha     100        450.0      Douro   \n",
       "5            Riserva     100        550.0    Tuscany   \n",
       "\n",
       "                     region_1  \\\n",
       "1  Vin Santo di Montepulciano   \n",
       "2                   Champagne   \n",
       "3                     Toscana   \n",
       "4                         NaN   \n",
       "5      Brunello di Montalcino   \n",
       "\n",
       "                                               title           variety  \\\n",
       "1  Avignonesi 1995 Occhio di Pernice  (Vin Santo ...  Prugnolo Gentile   \n",
       "2                        Krug 2002 Brut  (Champagne)   Champagne Blend   \n",
       "3  Tenuta dell'Ornellaia 2007 Masseto Merlot (Tos...            Merlot   \n",
       "4      Casa Ferreirinha 2008 Barca-Velha Red (Douro)    Portuguese Red   \n",
       "5  Biondi Santi 2010 Riserva  (Brunello di Montal...        Sangiovese   \n",
       "\n",
       "                  winery  Year  \n",
       "1             Avignonesi  1995  \n",
       "2                   Krug  2002  \n",
       "3  Tenuta dell'Ornellaia  2007  \n",
       "4       Casa Ferreirinha  2008  \n",
       "5           Biondi Santi  2010  "
      ]
     },
     "execution_count": 4,
     "metadata": {},
     "output_type": "execute_result"
    }
   ],
   "source": [
    "# Create a cleaned up version of the df for further analysis\n",
    "wine_df = cleaned_wine_data.copy()\n",
    "\n",
    "# Change Georgia to Georgia Country to ensure Google finds lat, lng for the country of Georgia instead of the state\n",
    "wine_df[\"country\"] = wine_df[\"country\"].replace([\"Georgia\"], \"Georgia Country\")\n",
    "\n",
    "# Drop rows where year is greater than or equal to 1980 and less than or equal to 2020\n",
    "wine_df[\"Year\"] = wine_df[\"Year\"].astype(\"int\")\n",
    "wine_df = wine_df[(wine_df[\"Year\"] >= 1980) & (wine_df[\"Year\"] <= 2020)]\n",
    "\n",
    "wine_df.head()"
   ]
  },
  {
   "cell_type": "markdown",
   "metadata": {
    "slideshow": {
     "slide_type": "slide"
    }
   },
   "source": [
    "# Analyze year of wine vs. rating using a bar chart"
   ]
  },
  {
   "cell_type": "code",
   "execution_count": 5,
   "metadata": {
    "slideshow": {
     "slide_type": "subslide"
    }
   },
   "outputs": [
    {
     "data": {
      "image/png": "[encoded data removed]",
      "text/plain": [
       "<Figure size 864x648 with 1 Axes>"
      ]
     },
     "metadata": {
      "needs_background": "light"
     },
     "output_type": "display_data"
    }
   ],
   "source": [
    "# Analyze and plot year of wine vs. rating\n",
    "wine_year = wine_df.groupby([\"Year\"])\n",
    "total_ratings = wine_df.groupby([\"Year\"]).mean()[\"points\"]\n",
    "\n",
    "#Reset the index for proper tick locations\n",
    "total_ratings_df = total_ratings.reset_index()\n",
    "\n",
    "# Plot the total ratings\n",
    "total_ratings.plot(kind=\"bar\", figsize = (12,9), color=\"g\", alpha=0.75, legend=False, rot = 90)\n",
    "\n",
    "#Assign labels and chart title\n",
    "plt.title(\"Year of Wine vs. Rating\", fontsize = 20)\n",
    "plt.xlabel(\"Year\", fontsize = 18)\n",
    "plt.ylabel(\"Ratings (points)\", fontsize = 18)\n",
    "plt.ylim(80,100)\n",
    "\n",
    "# Set tick locations\n",
    "plt.xticks(py.arange(0, len(total_ratings_df)), total_ratings_df[\"Year\"])\n",
    "\n",
    "\n",
    "plt.show()"
   ]
  },
  {
   "cell_type": "markdown",
   "metadata": {
    "slideshow": {
     "slide_type": "slide"
    }
   },
   "source": [
    "# Analyze price of wine vs. rating using a scatter plot and linear regression"
   ]
  },
  {
   "cell_type": "code",
   "execution_count": 6,
   "metadata": {
    "slideshow": {
     "slide_type": "subslide"
    }
   },
   "outputs": [
    {
     "name": "stdout",
     "output_type": "stream",
     "text": [
      "The r-squared is: 0.17340116703569503\n"
     ]
    },
    {
     "data": {
      "image/png": "[encoded data removed]",
      "text/plain": [
       "<Figure size 1440x720 with 1 Axes>"
      ]
     },
     "metadata": {
      "needs_background": "light"
     },
     "output_type": "display_data"
    }
   ],
   "source": [
    "#Define variables\n",
    "price = wine_df[\"price (USD)\"]\n",
    "ratings = wine_df[\"points\"]\n",
    "\n",
    "#plot figure\n",
    "plt.figure(figsize = (20,10))\n",
    "plt.scatter(ratings, price)\n",
    "\n",
    "#assign labels and chart title\n",
    "plt.title(f\"Wine Price vs. Popularity Rating\", fontsize = 20)\n",
    "plt.xlabel(\"Ratings\", fontsize = 18)\n",
    "plt.ylabel(\"Price (USD)\", fontsize =18)\n",
    "\n",
    "# Analyze price of wine vs. rating Linear Regression\n",
    "x_values= wine_df[\"points\"]\n",
    "y_values = wine_df[\"price (USD)\"]\n",
    "\n",
    "# Create the linregress function\n",
    "(slope, intercept, rvalue, pvalue, stderr) = linregress(x_values, y_values)\n",
    "regress_values = x_values * slope + intercept\n",
    "line_eq = \"y = \" + str(round(slope,2)) + \"x + \" + str(round(intercept,2))\n",
    "plt.plot(x_values,regress_values,\"r-\")\n",
    "plt.annotate(line_eq,(80,1500),fontsize=28,color=\"red\")\n",
    "print(f\"The r-squared is: {rvalue**2}\")\n",
    "plt.savefig('output_data/Price_Rating_linear_MT.png')\n",
    "\n",
    "plt.show()"
   ]
  },
  {
   "cell_type": "markdown",
   "metadata": {
    "slideshow": {
     "slide_type": "subslide"
    }
   },
   "source": [
    "### Due to the large range of price values and relatively small range of rating values the visual representation between price and rating is not highly satisfying, but based on the r-value there is _some_ correlation."
   ]
  },
  {
   "cell_type": "markdown",
   "metadata": {
    "slideshow": {
     "slide_type": "slide"
    }
   },
   "source": [
    "# Analyze price of wines from 1980 to 2017"
   ]
  },
  {
   "cell_type": "code",
   "execution_count": 7,
   "metadata": {
    "slideshow": {
     "slide_type": "subslide"
    }
   },
   "outputs": [
    {
     "name": "stdout",
     "output_type": "stream",
     "text": [
      "The r-squared is: 0.00636444736076331\n"
     ]
    },
    {
     "data": {
      "image/png": "[encoded data removed]",
      "text/plain": [
       "<Figure size 1440x720 with 1 Axes>"
      ]
     },
     "metadata": {
      "needs_background": "light"
     },
     "output_type": "display_data"
    }
   ],
   "source": [
    "#Define variables\n",
    "year = wine_df[\"Year\"]\n",
    "price = wine_df[\"price (USD)\"]\n",
    "\n",
    "#plot figure\n",
    "plt.figure(figsize = (20,10))\n",
    "plt.scatter(year, price)\n",
    "\n",
    "#Assign labels and chart title\n",
    "plt.title(f\"Wine Price vs. Year Bottled\", fontsize = 20)\n",
    "plt.xlabel(\"Year\", fontsize = 18)\n",
    "plt.ylabel(\"Price (USD)\", fontsize = 18)\n",
    "\n",
    "# Analyze year of wine vs. price Linear Regression\n",
    "x_values = wine_df[\"Year\"].astype(\"float\")\n",
    "y_values = wine_df[\"price (USD)\"]\n",
    "\n",
    "# Create the linregress function\n",
    "(slope, intercept, rvalue, pvalue, stderr) = linregress(x_values, y_values)\n",
    "regress_values = x_values * slope + intercept\n",
    "line_eq = \"y = \" + str(round(slope,2)) + \"x + \" + str(round(intercept,2))\n",
    "plt.plot(x_values,regress_values,\"r-\")\n",
    "plt.annotate(line_eq,(1995,1000),fontsize=14,color=\"red\")\n",
    "print(f\"The r-squared is: {rvalue**2}\")\n",
    "plt.savefig('output_data/Year_Price_linear_MT.png')\n",
    "\n",
    "plt.show()"
   ]
  },
  {
   "cell_type": "markdown",
   "metadata": {
    "slideshow": {
     "slide_type": "subslide"
    }
   },
   "source": [
    "### This plot allows us to view that the majority of wine price records were taken in recent years. If we take a look at the data from 2010 to 2015, we may be able to get a better prediction of the trends in wine prices across the world."
   ]
  },
  {
   "cell_type": "code",
   "execution_count": 8,
   "metadata": {
    "slideshow": {
     "slide_type": "subslide"
    }
   },
   "outputs": [
    {
     "name": "stdout",
     "output_type": "stream",
     "text": [
      "The r-squared is: 0.004945972367877448\n"
     ]
    },
    {
     "data": {
      "image/png": "[encoded data removed]",
      "text/plain": [
       "<Figure size 1440x720 with 1 Axes>"
      ]
     },
     "metadata": {
      "needs_background": "light"
     },
     "output_type": "display_data"
    }
   ],
   "source": [
    "# Create condensed df\n",
    "wine_10to15 = wine_df[(wine_df[\"Year\"] >= 2010) & (wine_df[\"Year\"] <= 2015)]\n",
    "\n",
    "#Define variables\n",
    "year = wine_10to15[\"Year\"]\n",
    "price = wine_10to15[\"price (USD)\"]\n",
    "\n",
    "#plot figure\n",
    "plt.figure(figsize = (20,10))\n",
    "plt.scatter(year, price)\n",
    "\n",
    "#Assign labels and chart title\n",
    "plt.title(f\"Wine Price vs. Year Bottled\", fontsize = 20)\n",
    "plt.xlabel(\"Year\", fontsize = 18)\n",
    "plt.ylabel(\"Price (USD)\", fontsize = 18)\n",
    "\n",
    "# Analyze year of wine vs. price Linear Regression\n",
    "x_values = wine_10to15[\"Year\"].astype(\"float\")\n",
    "y_values = wine_10to15[\"price (USD)\"]\n",
    "\n",
    "# Create the linregress function\n",
    "(slope, intercept, rvalue, pvalue, stderr) = linregress(x_values, y_values)\n",
    "regress_values = x_values * slope + intercept\n",
    "line_eq = \"y = \" + str(round(slope,2)) + \"x + \" + str(round(intercept,2))\n",
    "plt.plot(x_values,regress_values,\"r-\")\n",
    "plt.annotate(line_eq,(2011,1500),fontsize=28,color=\"red\")\n",
    "print(f\"The r-squared is: {rvalue**2}\")\n",
    "plt.savefig('output_data/2010to2015_Year_Price_linear_MT.png')\n",
    "\n",
    "plt.show()"
   ]
  },
  {
   "cell_type": "markdown",
   "metadata": {
    "slideshow": {
     "slide_type": "subslide"
    }
   },
   "source": [
    "### Just kidding.. From 2010 to 2015, there is not a strong trend upward or downward in price of wine! "
   ]
  },
  {
   "cell_type": "markdown",
   "metadata": {
    "slideshow": {
     "slide_type": "slide"
    }
   },
   "source": [
    "# Prepare a summary dataframe for gmap visualization. This will help us identify which countries have the most expensive & the highest rated wines."
   ]
  },
  {
   "cell_type": "code",
   "execution_count": 9,
   "metadata": {
    "slideshow": {
     "slide_type": "subslide"
    }
   },
   "outputs": [],
   "source": [
    "# Create a summary df for price and wine rating called wine country\n",
    "# Declare the avg wine price and avg rating by country\n",
    "avg_price = wine_df.groupby(\"country\").mean()[\"price (USD)\"]\n",
    "avg_rating = wine_df.groupby(\"country\").mean()[\"points\"]\n",
    "\n",
    "# Summary DF\n",
    "wine_country = pd.DataFrame({\n",
    "    \"Avg Wine Price (USD)\": avg_price,\n",
    "    \"Avg Wine Rating\": avg_rating\n",
    "})"
   ]
  },
  {
   "cell_type": "code",
   "execution_count": 10,
   "metadata": {
    "slideshow": {
     "slide_type": "subslide"
    }
   },
   "outputs": [
    {
     "data": {
      "text/html": [
       "<div>\n",
       "<style scoped>\n",
       "    .dataframe tbody tr th:only-of-type {\n",
       "        vertical-align: middle;\n",
       "    }\n",
       "\n",
       "    .dataframe tbody tr th {\n",
       "        vertical-align: top;\n",
       "    }\n",
       "\n",
       "    .dataframe thead th {\n",
       "        text-align: right;\n",
       "    }\n",
       "</style>\n",
       "<table border=\"1\" class=\"dataframe\">\n",
       "  <thead>\n",
       "    <tr style=\"text-align: right;\">\n",
       "      <th></th>\n",
       "      <th>Avg Wine Price (USD)</th>\n",
       "      <th>Avg Wine Rating</th>\n",
       "      <th>lat</th>\n",
       "      <th>lng</th>\n",
       "    </tr>\n",
       "    <tr>\n",
       "      <th>country</th>\n",
       "      <th></th>\n",
       "      <th></th>\n",
       "      <th></th>\n",
       "      <th></th>\n",
       "    </tr>\n",
       "  </thead>\n",
       "  <tbody>\n",
       "    <tr>\n",
       "      <th>Argentina</th>\n",
       "      <td>24.606314</td>\n",
       "      <td>86.741230</td>\n",
       "      <td>-38.4161</td>\n",
       "      <td>-63.6167</td>\n",
       "    </tr>\n",
       "    <tr>\n",
       "      <th>Armenia</th>\n",
       "      <td>14.500000</td>\n",
       "      <td>87.500000</td>\n",
       "      <td>40.0691</td>\n",
       "      <td>45.0382</td>\n",
       "    </tr>\n",
       "    <tr>\n",
       "      <th>Australia</th>\n",
       "      <td>35.097528</td>\n",
       "      <td>88.595506</td>\n",
       "      <td>-25.2744</td>\n",
       "      <td>133.775</td>\n",
       "    </tr>\n",
       "    <tr>\n",
       "      <th>Austria</th>\n",
       "      <td>30.776573</td>\n",
       "      <td>90.210774</td>\n",
       "      <td>47.5162</td>\n",
       "      <td>14.5501</td>\n",
       "    </tr>\n",
       "    <tr>\n",
       "      <th>Bosnia and Herzegovina</th>\n",
       "      <td>12.500000</td>\n",
       "      <td>86.500000</td>\n",
       "      <td>43.9159</td>\n",
       "      <td>17.6791</td>\n",
       "    </tr>\n",
       "  </tbody>\n",
       "</table>\n",
       "</div>"
      ],
      "text/plain": [
       "                        Avg Wine Price (USD)  Avg Wine Rating      lat  \\\n",
       "country                                                                  \n",
       "Argentina                          24.606314        86.741230 -38.4161   \n",
       "Armenia                            14.500000        87.500000  40.0691   \n",
       "Australia                          35.097528        88.595506 -25.2744   \n",
       "Austria                            30.776573        90.210774  47.5162   \n",
       "Bosnia and Herzegovina             12.500000        86.500000  43.9159   \n",
       "\n",
       "                            lng  \n",
       "country                          \n",
       "Argentina              -63.6167  \n",
       "Armenia                 45.0382  \n",
       "Australia               133.775  \n",
       "Austria                 14.5501  \n",
       "Bosnia and Herzegovina  17.6791  "
      ]
     },
     "execution_count": 10,
     "metadata": {},
     "output_type": "execute_result"
    }
   ],
   "source": [
    "# Call the Google Geocode API to retrieve lat and lng for the countries in the DataFrame\n",
    "wine_country[\"lat\"] = \"\"\n",
    "wine_country[\"lng\"] = \"\"\n",
    "\n",
    "params = {\"key\": g_key}\n",
    "\n",
    "\n",
    "for index, row in wine_country.iterrows():   \n",
    "    \n",
    "    base_url = \"https://maps.googleapis.com/maps/api/geocode/json\"\n",
    "    \n",
    "    country = index\n",
    "    \n",
    "    params[\"address\"] = f\"{country}\"\n",
    "    \n",
    "    country_lat_lng = requests.get(base_url, params=params)\n",
    "\n",
    "    # Convert to JSON\n",
    "    country_geo = country_lat_lng.json()\n",
    "\n",
    "    # Extract lat/lng\n",
    "    wine_country.loc[index, \"lat\"] = country_geo[\"results\"][0][\"geometry\"][\"location\"][\"lat\"]\n",
    "    wine_country.loc[index, \"lng\"] = country_geo[\"results\"][0][\"geometry\"][\"location\"][\"lng\"]\n",
    "    \n",
    "# Show new df\n",
    "wine_country.head()"
   ]
  },
  {
   "cell_type": "markdown",
   "metadata": {
    "slideshow": {
     "slide_type": "slide"
    }
   },
   "source": [
    "# Take a look at a DataFrame of the countries with the most expensive wine, these should be visible when looking at the gmap visualization."
   ]
  },
  {
   "cell_type": "code",
   "execution_count": 11,
   "metadata": {
    "slideshow": {
     "slide_type": "subslide"
    }
   },
   "outputs": [
    {
     "data": {
      "text/html": [
       "<div>\n",
       "<style scoped>\n",
       "    .dataframe tbody tr th:only-of-type {\n",
       "        vertical-align: middle;\n",
       "    }\n",
       "\n",
       "    .dataframe tbody tr th {\n",
       "        vertical-align: top;\n",
       "    }\n",
       "\n",
       "    .dataframe thead th {\n",
       "        text-align: right;\n",
       "    }\n",
       "</style>\n",
       "<table border=\"1\" class=\"dataframe\">\n",
       "  <thead>\n",
       "    <tr style=\"text-align: right;\">\n",
       "      <th></th>\n",
       "      <th>Avg Wine Price (USD)</th>\n",
       "      <th>Avg Wine Rating</th>\n",
       "      <th>lat</th>\n",
       "      <th>lng</th>\n",
       "    </tr>\n",
       "    <tr>\n",
       "      <th>country</th>\n",
       "      <th></th>\n",
       "      <th></th>\n",
       "      <th></th>\n",
       "      <th></th>\n",
       "    </tr>\n",
       "  </thead>\n",
       "  <tbody>\n",
       "    <tr>\n",
       "      <th>Switzerland</th>\n",
       "      <td>85.285714</td>\n",
       "      <td>88.571429</td>\n",
       "      <td>46.8182</td>\n",
       "      <td>8.22751</td>\n",
       "    </tr>\n",
       "    <tr>\n",
       "      <th>England</th>\n",
       "      <td>52.400000</td>\n",
       "      <td>91.709091</td>\n",
       "      <td>52.3555</td>\n",
       "      <td>-1.17432</td>\n",
       "    </tr>\n",
       "    <tr>\n",
       "      <th>Germany</th>\n",
       "      <td>42.385640</td>\n",
       "      <td>89.844508</td>\n",
       "      <td>51.1657</td>\n",
       "      <td>10.4515</td>\n",
       "    </tr>\n",
       "    <tr>\n",
       "      <th>Hungary</th>\n",
       "      <td>41.253521</td>\n",
       "      <td>89.267606</td>\n",
       "      <td>47.1625</td>\n",
       "      <td>19.5033</td>\n",
       "    </tr>\n",
       "    <tr>\n",
       "      <th>Italy</th>\n",
       "      <td>40.665835</td>\n",
       "      <td>88.718713</td>\n",
       "      <td>41.8719</td>\n",
       "      <td>12.5674</td>\n",
       "    </tr>\n",
       "    <tr>\n",
       "      <th>France</th>\n",
       "      <td>40.554871</td>\n",
       "      <td>88.741333</td>\n",
       "      <td>46.2276</td>\n",
       "      <td>2.21375</td>\n",
       "    </tr>\n",
       "    <tr>\n",
       "      <th>US</th>\n",
       "      <td>36.840300</td>\n",
       "      <td>88.602842</td>\n",
       "      <td>37.0902</td>\n",
       "      <td>-95.7129</td>\n",
       "    </tr>\n",
       "    <tr>\n",
       "      <th>Canada</th>\n",
       "      <td>35.723320</td>\n",
       "      <td>89.379447</td>\n",
       "      <td>56.1304</td>\n",
       "      <td>-106.347</td>\n",
       "    </tr>\n",
       "    <tr>\n",
       "      <th>Australia</th>\n",
       "      <td>35.097528</td>\n",
       "      <td>88.595506</td>\n",
       "      <td>-25.2744</td>\n",
       "      <td>133.775</td>\n",
       "    </tr>\n",
       "    <tr>\n",
       "      <th>Israel</th>\n",
       "      <td>31.734440</td>\n",
       "      <td>88.485477</td>\n",
       "      <td>31.0461</td>\n",
       "      <td>34.8516</td>\n",
       "    </tr>\n",
       "  </tbody>\n",
       "</table>\n",
       "</div>"
      ],
      "text/plain": [
       "             Avg Wine Price (USD)  Avg Wine Rating      lat      lng\n",
       "country                                                             \n",
       "Switzerland             85.285714        88.571429  46.8182  8.22751\n",
       "England                 52.400000        91.709091  52.3555 -1.17432\n",
       "Germany                 42.385640        89.844508  51.1657  10.4515\n",
       "Hungary                 41.253521        89.267606  47.1625  19.5033\n",
       "Italy                   40.665835        88.718713  41.8719  12.5674\n",
       "France                  40.554871        88.741333  46.2276  2.21375\n",
       "US                      36.840300        88.602842  37.0902 -95.7129\n",
       "Canada                  35.723320        89.379447  56.1304 -106.347\n",
       "Australia               35.097528        88.595506 -25.2744  133.775\n",
       "Israel                  31.734440        88.485477  31.0461  34.8516"
      ]
     },
     "execution_count": 11,
     "metadata": {},
     "output_type": "execute_result"
    }
   ],
   "source": [
    "# Identify the top 10 most expensive wine countries\n",
    "most_expensive = wine_country.sort_values([\"Avg Wine Price (USD)\"], ascending = False)\n",
    "most_expensive.head(10)"
   ]
  },
  {
   "cell_type": "markdown",
   "metadata": {
    "slideshow": {
     "slide_type": "subslide"
    }
   },
   "source": [
    "# In order to enhance the scale for our gmap that compares wine ratings by country, we decided to reduce the total scale by subtracting 80 from the average wine ratings column. This increased the minimum value of our gmap weight scale from 0 to 80 for a more pronounced difference in point weights."
   ]
  },
  {
   "cell_type": "code",
   "execution_count": 12,
   "metadata": {
    "slideshow": {
     "slide_type": "subslide"
    }
   },
   "outputs": [
    {
     "data": {
      "text/html": [
       "<div>\n",
       "<style scoped>\n",
       "    .dataframe tbody tr th:only-of-type {\n",
       "        vertical-align: middle;\n",
       "    }\n",
       "\n",
       "    .dataframe tbody tr th {\n",
       "        vertical-align: top;\n",
       "    }\n",
       "\n",
       "    .dataframe thead th {\n",
       "        text-align: right;\n",
       "    }\n",
       "</style>\n",
       "<table border=\"1\" class=\"dataframe\">\n",
       "  <thead>\n",
       "    <tr style=\"text-align: right;\">\n",
       "      <th></th>\n",
       "      <th>Avg Wine Price (USD)</th>\n",
       "      <th>Avg Wine Rating</th>\n",
       "      <th>lat</th>\n",
       "      <th>lng</th>\n",
       "      <th>New Rating</th>\n",
       "    </tr>\n",
       "    <tr>\n",
       "      <th>country</th>\n",
       "      <th></th>\n",
       "      <th></th>\n",
       "      <th></th>\n",
       "      <th></th>\n",
       "      <th></th>\n",
       "    </tr>\n",
       "  </thead>\n",
       "  <tbody>\n",
       "    <tr>\n",
       "      <th>Argentina</th>\n",
       "      <td>24.61</td>\n",
       "      <td>86.74</td>\n",
       "      <td>-38.4161</td>\n",
       "      <td>-63.6167</td>\n",
       "      <td>6.741230</td>\n",
       "    </tr>\n",
       "    <tr>\n",
       "      <th>Armenia</th>\n",
       "      <td>14.50</td>\n",
       "      <td>87.50</td>\n",
       "      <td>40.0691</td>\n",
       "      <td>45.0382</td>\n",
       "      <td>7.500000</td>\n",
       "    </tr>\n",
       "    <tr>\n",
       "      <th>Australia</th>\n",
       "      <td>35.10</td>\n",
       "      <td>88.60</td>\n",
       "      <td>-25.2744</td>\n",
       "      <td>133.775</td>\n",
       "      <td>8.595506</td>\n",
       "    </tr>\n",
       "    <tr>\n",
       "      <th>Austria</th>\n",
       "      <td>30.78</td>\n",
       "      <td>90.21</td>\n",
       "      <td>47.5162</td>\n",
       "      <td>14.5501</td>\n",
       "      <td>10.210774</td>\n",
       "    </tr>\n",
       "    <tr>\n",
       "      <th>Bosnia and Herzegovina</th>\n",
       "      <td>12.50</td>\n",
       "      <td>86.50</td>\n",
       "      <td>43.9159</td>\n",
       "      <td>17.6791</td>\n",
       "      <td>6.500000</td>\n",
       "    </tr>\n",
       "  </tbody>\n",
       "</table>\n",
       "</div>"
      ],
      "text/plain": [
       "                       Avg Wine Price (USD) Avg Wine Rating      lat      lng  \\\n",
       "country                                                                         \n",
       "Argentina                             24.61           86.74 -38.4161 -63.6167   \n",
       "Armenia                               14.50           87.50  40.0691  45.0382   \n",
       "Australia                             35.10           88.60 -25.2744  133.775   \n",
       "Austria                               30.78           90.21  47.5162  14.5501   \n",
       "Bosnia and Herzegovina                12.50           86.50  43.9159  17.6791   \n",
       "\n",
       "                        New Rating  \n",
       "country                             \n",
       "Argentina                 6.741230  \n",
       "Armenia                   7.500000  \n",
       "Australia                 8.595506  \n",
       "Austria                  10.210774  \n",
       "Bosnia and Herzegovina    6.500000  "
      ]
     },
     "execution_count": 12,
     "metadata": {},
     "output_type": "execute_result"
    }
   ],
   "source": [
    "# Reduce the scale for wine ratings to visualize the difference betweens ratings by country\n",
    "wine_country[\"New Rating\"] = wine_country[\"Avg Wine Rating\"] - 80\n",
    "\n",
    "# Format ratings and prices to 2 decimals\n",
    "wine_country[\"Avg Wine Price (USD)\"] = wine_country[\"Avg Wine Price (USD)\"].map(\"{:,.2f}\".format)\n",
    "wine_country[\"Avg Wine Rating\"] = wine_country[\"Avg Wine Rating\"].map(\"{:,.2f}\".format)\n",
    "\n",
    "wine_country.head()"
   ]
  },
  {
   "cell_type": "markdown",
   "metadata": {
    "slideshow": {
     "slide_type": "slide"
    }
   },
   "source": [
    "# To visualize our data, we first setup our variables and then created gmaps with a price layer and a rating layer, respectively. This will be shown through our Jupyter Notebook, as Jupyter slides does not currently support displaying interactive gmaps."
   ]
  },
  {
   "cell_type": "code",
   "execution_count": 13,
   "metadata": {
    "slideshow": {
     "slide_type": "subslide"
    }
   },
   "outputs": [],
   "source": [
    "# Storing variables for gmap use\n",
    "locations = wine_country[[\"lat\", \"lng\"]]\n",
    "country_rating = wine_country[\"New Rating\"].astype(float)\n",
    "country_price = wine_country[\"Avg Wine Price (USD)\"].astype(float)"
   ]
  },
  {
   "cell_type": "code",
   "execution_count": 14,
   "metadata": {
    "slideshow": {
     "slide_type": "skip"
    }
   },
   "outputs": [
    {
     "data": {
      "application/vnd.jupyter.widget-view+json": {
       "model_id": "cbcae623c7ad4916b01b40fc5cfbacda",
       "version_major": 2,
       "version_minor": 0
      },
      "text/plain": [
       "Figure(layout=FigureLayout(height='420px'))"
      ]
     },
     "metadata": {},
     "output_type": "display_data"
    }
   ],
   "source": [
    "# Create a gmap with a heatmap layer and pins that have country and price displayed\n",
    "fig = gmaps.figure(center=(30,20), zoom_level=1.5)\n",
    "\n",
    "price_layer = gmaps.heatmap_layer(locations, weights=country_price,\n",
    "                                dissipating=False, max_intensity=country_price.max(),\n",
    "                                point_radius=1)\n",
    "\n",
    "fig.add_layer(price_layer)\n",
    "\n",
    "# Using the template add the marks to the heatmap\n",
    "info_box_template = \"\"\"\n",
    "<dl>\n",
    "<dt>Country</dt><dd>{index}</dd>\n",
    "<dt>Avg Wine Price (USD)</dt><dd>{Avg Wine Price (USD)}</dd>\n",
    "</dl>\n",
    "\"\"\"\n",
    "# Store the DataFrame Row\n",
    "country_info = [info_box_template.format(index=index, **row) for index, row in wine_country.iterrows()]\n",
    "\n",
    "# Add marker layer ontop of heat map\n",
    "fig.add_layer(gmaps.symbol_layer(locations, info_box_content=country_info, stroke_opacity=0, fill_color=\"black\", fill_opacity=.5, scale=3))\n",
    "\n",
    "\n",
    "fig\n"
   ]
  },
  {
   "cell_type": "code",
   "execution_count": 16,
   "metadata": {
    "slideshow": {
     "slide_type": "skip"
    }
   },
   "outputs": [
    {
     "data": {
      "application/vnd.jupyter.widget-view+json": {
       "model_id": "29d4e44636c64340b7324c734d351b41",
       "version_major": 2,
       "version_minor": 0
      },
      "text/plain": [
       "Figure(layout=FigureLayout(height='420px'))"
      ]
     },
     "metadata": {},
     "output_type": "display_data"
    }
   ],
   "source": [
    "# Identify countries with the highest rated wine\n",
    "# Avg wine ratings by country\n",
    "# Include a gmap\n",
    "fig = gmaps.figure(center=(30,20), zoom_level=1.5)\n",
    "\n",
    "rating_layer = gmaps.heatmap_layer(locations, weights=country_rating,\n",
    "                                dissipating=False, max_intensity=10,\n",
    "                                point_radius=1)\n",
    "\n",
    "fig.add_layer(rating_layer)\n",
    "\n",
    "# Using the template add the marks to the heatmap\n",
    "info_box_template = \"\"\"\n",
    "<dl>\n",
    "<dt>Country</dt><dd>{index}</dd>\n",
    "<dt>Avg Wine Rating</dt><dd>{Avg Wine Rating}</dd>\n",
    "</dl>\n",
    "\"\"\"\n",
    "# Store the DataFrame Row\n",
    "country_info = [info_box_template.format(index=index, **row) for index, row in wine_country.iterrows()]\n",
    "\n",
    "# Add marker layer ontop of heat map\n",
    "fig.add_layer(gmaps.symbol_layer(locations, info_box_content=country_info, stroke_opacity=0, fill_color=\"black\", fill_opacity=.5, scale=3))\n",
    "\n",
    "\n",
    "fig\n"
   ]
  },
  {
   "cell_type": "markdown",
   "metadata": {
    "slideshow": {
     "slide_type": "slide"
    }
   },
   "source": [
    "# Conclusions we found through our analysis!"
   ]
  },
  {
   "cell_type": "markdown",
   "metadata": {
    "slideshow": {
     "slide_type": "subslide"
    }
   },
   "source": [
    "#### The country with the highest average price of wine is Switzerland with an average bottle of wine priced at 85.25 dollars. <img src=\"Resources/switzerland.jpg\" width=\"400\">\n",
    "#### The next country with the highest average price of wine is 32.85 dollars below (England), followed by Germany for price. <img src=\"Resources/england.jpg\" width=\"300\"><img src=\"Resources/germany.png.\" width=\"200\">\n",
    "#### The overall average price of wine for all countries analyzed is 26.64 dollars."
   ]
  },
  {
   "cell_type": "markdown",
   "metadata": {
    "slideshow": {
     "slide_type": "subslide"
    }
   },
   "source": [
    "#### The average wine rating is 87.735 with the range is 7.9. The country with the lowest rated wine also has the cheapest wine, from Ukraine. However, the country highest rated wine does not have the highest priced wine. Outlier might be India, 90.2 average wine rating and average price is 13.3 dollars. In an earlier scatter plot there was a linear regression between wine price to year bottled. The r-squared is: 0.414, meaning there is some correlation, although it is not strong."
   ]
  }
 ],
 "metadata": {
  "celltoolbar": "Slideshow",
  "kernelspec": {
   "display_name": "Python 3",
   "language": "python",
   "name": "python3"
  },
  "language_info": {
   "codemirror_mode": {
    "name": "ipython",
    "version": 3
   },
   "file_extension": ".py",
   "mimetype": "text/x-python",
   "name": "python",
   "nbconvert_exporter": "python",
   "pygments_lexer": "ipython3",
   "version": "3.6.10"
  }
 },
 "nbformat": 4,
 "nbformat_minor": 4
}
